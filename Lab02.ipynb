{
  "nbformat": 4,
  "nbformat_minor": 0,
  "metadata": {
    "colab": {
      "name": "Untitled1.ipynb",
      "provenance": [],
      "authorship_tag": "ABX9TyMKUmiW619VRC3k4lxjFXHk",
      "include_colab_link": true
    },
    "kernelspec": {
      "name": "python3",
      "display_name": "Python 3"
    },
    "language_info": {
      "name": "python"
    }
  },
  "cells": [
    {
      "cell_type": "markdown",
      "metadata": {
        "id": "view-in-github",
        "colab_type": "text"
      },
      "source": [
        "<a href=\"https://colab.research.google.com/github/QuanDieu/PythonNangcao/blob/main/Lab02.ipynb\" target=\"_parent\"><img src=\"https://colab.research.google.com/assets/colab-badge.svg\" alt=\"Open In Colab\"/></a>"
      ]
    },
    {
      "cell_type": "code",
      "metadata": {
        "colab": {
          "base_uri": "https://localhost:8080/"
        },
        "id": "RlAhE-JBuCHY",
        "outputId": "93973b31-bb3f-4673-f9cb-e94705db6f7e"
      },
      "source": [
        "kingdoms = ['Bacteria','Protozoa','Chromista','Plantae','Fungi','Animalia']\n",
        "print(kingdoms[0])\n",
        "print(kingdoms[5])\n",
        "print(kingdoms[:3])\n",
        "print(kingdoms[2:5])\n",
        "print(kingdoms[4:])\n",
        "print(kingdoms[1:0])\n"
      ],
      "execution_count": 9,
      "outputs": [
        {
          "output_type": "stream",
          "name": "stdout",
          "text": [
            "['Fungi', 'Animalia']\n",
            "[]\n"
          ]
        }
      ]
    },
    {
      "cell_type": "code",
      "metadata": {
        "colab": {
          "base_uri": "https://localhost:8080/"
        },
        "id": "_7KE2FYxuUrj",
        "outputId": "6026c9ad-a7c6-4456-87bd-bdb6896bc554"
      },
      "source": [
        "print(kingdoms[-6])\n",
        "print(kingdoms[-1])\n",
        "print(kingdoms[-6:-3])\n",
        "print(kingdoms[-4:-1])\n",
        "print(kingdoms[-2:])\n",
        "print(kingdoms[-1:-2])"
      ],
      "execution_count": 3,
      "outputs": [
        {
          "output_type": "stream",
          "name": "stdout",
          "text": [
            "Bacteria\n",
            "Animalia\n",
            "['Bacteria', 'Protozoa', 'Chromista']\n",
            "['Chromista', 'Plantae', 'Fungi']\n",
            "['Fungi', 'Animalia']\n",
            "[]\n"
          ]
        }
      ]
    },
    {
      "cell_type": "code",
      "metadata": {
        "colab": {
          "base_uri": "https://localhost:8080/"
        },
        "id": "D4mgX5ozu65-",
        "outputId": "3b50d40b-4a75-4400-be8e-ae7c2ca43d6f"
      },
      "source": [
        "appointments =['9:00', '10:30','14:00', '15:00', '15:30']\n",
        "appointments.append('16:30')\n",
        "appointments += ['16:30']\n",
        "print(appointments)\n"
      ],
      "execution_count": 8,
      "outputs": [
        {
          "output_type": "stream",
          "name": "stdout",
          "text": [
            "['9:00', '10:30', '14:00', '15:00', '15:30', '16:30', '16:30']\n"
          ]
        }
      ]
    },
    {
      "cell_type": "markdown",
      "metadata": {
        "id": "alFpSn41wqQP"
      },
      "source": [
        "Câu lệnh append thì nó có thể tối ưu hóa tập tin , còn câu b"
      ]
    }
  ]
}