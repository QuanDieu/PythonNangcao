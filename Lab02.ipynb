{
  "nbformat": 4,
  "nbformat_minor": 0,
  "metadata": {
    "colab": {
      "name": "Untitled1.ipynb",
      "provenance": [],
      "authorship_tag": "ABX9TyOTvbkEbUsI9BUU1oQiaVFU",
      "include_colab_link": true
    },
    "kernelspec": {
      "name": "python3",
      "display_name": "Python 3"
    },
    "language_info": {
      "name": "python"
    }
  },
  "cells": [
    {
      "cell_type": "markdown",
      "metadata": {
        "id": "view-in-github",
        "colab_type": "text"
      },
      "source": [
        "<a href=\"https://colab.research.google.com/github/QuanDieu/PythonNangcao/blob/main/Lab02.ipynb\" target=\"_parent\"><img src=\"https://colab.research.google.com/assets/colab-badge.svg\" alt=\"Open In Colab\"/></a>"
      ]
    },
    {
      "cell_type": "code",
      "metadata": {
        "colab": {
          "base_uri": "https://localhost:8080/"
        },
        "id": "RlAhE-JBuCHY",
        "outputId": "710c5b2a-e45b-4a21-beb7-7355e86af105"
      },
      "source": [
        "kingdoms = ['Bacteria','Protozoa','Chromista','Plantae','Fungi','Animalia']\n",
        "print(kingdoms[0])\n",
        "print(kingdoms[5])\n",
        "print(kingdoms[:3])\n",
        "print(kingdoms[2:5])\n",
        "print(kingdoms[4:])\n",
        "print(kingdoms[1:0])\n"
      ],
      "execution_count": 10,
      "outputs": [
        {
          "output_type": "stream",
          "name": "stdout",
          "text": [
            "Bacteria\n",
            "Animalia\n",
            "['Bacteria', 'Protozoa', 'Chromista']\n",
            "['Chromista', 'Plantae', 'Fungi']\n",
            "['Fungi', 'Animalia']\n",
            "[]\n"
          ]
        }
      ]
    },
    {
      "cell_type": "code",
      "metadata": {
        "colab": {
          "base_uri": "https://localhost:8080/"
        },
        "id": "_7KE2FYxuUrj",
        "outputId": "6026c9ad-a7c6-4456-87bd-bdb6896bc554"
      },
      "source": [
        "print(kingdoms[-6])\n",
        "print(kingdoms[-1])\n",
        "print(kingdoms[-6:-3])\n",
        "print(kingdoms[-4:-1])\n",
        "print(kingdoms[-2:])\n",
        "print(kingdoms[-1:-2])"
      ],
      "execution_count": 3,
      "outputs": [
        {
          "output_type": "stream",
          "name": "stdout",
          "text": [
            "Bacteria\n",
            "Animalia\n",
            "['Bacteria', 'Protozoa', 'Chromista']\n",
            "['Chromista', 'Plantae', 'Fungi']\n",
            "['Fungi', 'Animalia']\n",
            "[]\n"
          ]
        }
      ]
    },
    {
      "cell_type": "code",
      "metadata": {
        "colab": {
          "base_uri": "https://localhost:8080/"
        },
        "id": "D4mgX5ozu65-",
        "outputId": "3b50d40b-4a75-4400-be8e-ae7c2ca43d6f"
      },
      "source": [
        "appointments =['9:00', '10:30','14:00', '15:00', '15:30']\n",
        "appointments.append('16:30')\n",
        "appointments += ['16:30']\n",
        "print(appointments)"
      ],
      "execution_count": 8,
      "outputs": [
        {
          "output_type": "stream",
          "name": "stdout",
          "text": [
            "['9:00', '10:30', '14:00', '15:00', '15:30', '16:30', '16:30']\n"
          ]
        }
      ]
    },
    {
      "cell_type": "markdown",
      "metadata": {
        "id": "alFpSn41wqQP"
      },
      "source": [
        "Câu lệnh a thì nó có thể tối ưu hóa tập tin , còn câu b thì chỉ add vô list"
      ]
    },
    {
      "cell_type": "code",
      "metadata": {
        "colab": {
          "base_uri": "https://localhost:8080/"
        },
        "id": "GJuKZ1CHyHnO",
        "outputId": "de86a899-3e48-4e1f-a07f-a5e0816a5744"
      },
      "source": [
        "ids = [4353, 2314, 2956, 3382, 9362, 3900]\n",
        "ids.remove(3382)\n",
        "print(ids)\n",
        "print(ids.index(9362))\n",
        "ids.insert(ids.index(9362) + 1, 4499)\n",
        "print(ids)\n",
        "ids = ids + [5566, 1830]\n",
        "print(ids)\n",
        "ids.reverse()\n",
        "print(ids)\n",
        "ids.sort()\n",
        "print(ids)"
      ],
      "execution_count": 18,
      "outputs": [
        {
          "output_type": "stream",
          "name": "stdout",
          "text": [
            "[4353, 2314, 2956, 9362, 3900]\n",
            "3\n",
            "[4353, 2314, 2956, 9362, 4499, 3900]\n",
            "[4353, 2314, 2956, 9362, 4499, 3900, 5566, 1830]\n",
            "[1830, 5566, 3900, 4499, 9362, 2956, 2314, 4353]\n",
            "[1830, 2314, 2956, 3900, 4353, 4499, 5566, 9362]\n"
          ]
        }
      ]
    },
    {
      "cell_type": "code",
      "metadata": {
        "colab": {
          "base_uri": "https://localhost:8080/"
        },
        "id": "ULnOzKkgzAsr",
        "outputId": "da819065-be33-4120-d6b4-969bb2d5aefa"
      },
      "source": [
        "alkaline_earth_metals = [4, 12, 20, 38, 56, 88]\n",
        "print(alkaline_earth_metals[5], alkaline_earth_metals[-1])\n",
        "print(len(alkaline_earth_metals))\n",
        "print(max(alkaline_earth_metals))"
      ],
      "execution_count": 19,
      "outputs": [
        {
          "output_type": "stream",
          "name": "stdout",
          "text": [
            "88 88\n",
            "6\n",
            "88\n"
          ]
        }
      ]
    },
    {
      "cell_type": "code",
      "metadata": {
        "colab": {
          "base_uri": "https://localhost:8080/"
        },
        "id": "EKscSnXD0IqD",
        "outputId": "43ae9ae1-1f47-4876-c376-80acae90e778"
      },
      "source": [
        "temps = [25.2, 16.8, 31.4, 23.9, 28, 22.5, 19.6]\n",
        "temps.sort()\n",
        "print(temps)\n",
        "\n",
        "cool_temps = temps[0:2]\n",
        "warm_temps = temps[2:]\n",
        "print(cool_temps)\n",
        "print(warm_temps)\n",
        "temps_in_celsius = cool_temps + warm_temps\n",
        "print(temps_in_celsius)"
      ],
      "execution_count": 21,
      "outputs": [
        {
          "output_type": "stream",
          "name": "stdout",
          "text": [
            "[16.8, 19.6, 22.5, 23.9, 25.2, 28, 31.4]\n",
            "[16.8, 19.6]\n",
            "[22.5, 23.9, 25.2, 28, 31.4]\n",
            "[16.8, 19.6, 22.5, 23.9, 25.2, 28, 31.4]\n"
          ]
        }
      ]
    },
    {
      "cell_type": "code",
      "metadata": {
        "colab": {
          "base_uri": "https://localhost:8080/"
        },
        "id": "sjimPwrs078F",
        "outputId": "81cc87c1-71fb-4261-f26b-238ee162b761"
      },
      "source": [
        "def same_first_last(L: list) -> bool:\n",
        "    if(len(L) >= 2):\n",
        "      return L[0] == L[-1]\n",
        "\n",
        "print(same_first_last([3, 4, 2, 8, 3]))\n",
        "print(same_first_last(['apple', 'banana', 'pear']))\n",
        "print(same_first_last([4.0, 4.5]))"
      ],
      "execution_count": 40,
      "outputs": [
        {
          "output_type": "stream",
          "name": "stdout",
          "text": [
            "True\n",
            "False\n",
            "False\n"
          ]
        }
      ]
    },
    {
      "cell_type": "code",
      "metadata": {
        "colab": {
          "base_uri": "https://localhost:8080/"
        },
        "id": "Vx_S1Z7H5uMv",
        "outputId": "6970ba88-e8f1-470f-d64b-14f01ab523c0"
      },
      "source": [
        "def is_longer(L1: list, L2: list) -> bool:\n",
        "  return len(L1) > len(L2)\n",
        "print( is_longer([1, 2, 3], [4, 5]))\n",
        "print( is_longer(['abcdef'], ['ab', 'cd', 'ef']))\n",
        "print(is_longer(['a', 'b', 'c'], [1, 2, 3]))"
      ],
      "execution_count": 43,
      "outputs": [
        {
          "output_type": "stream",
          "name": "stdout",
          "text": [
            "True\n",
            "False\n",
            "False\n"
          ]
        }
      ]
    },
    {
      "cell_type": "code",
      "metadata": {
        "colab": {
          "base_uri": "https://localhost:8080/"
        },
        "id": "Qdam6zJo4HBw",
        "outputId": "f7653169-f877-4715-bce6-a7ca248fedf7"
      },
      "source": [
        "units =[['km', 'miles', 'league'],['kg', 'pound', 'stone']]\n",
        "print(units[0])"
      ],
      "execution_count": 45,
      "outputs": [
        {
          "output_type": "stream",
          "name": "stdout",
          "text": [
            "['km', 'miles', 'league']\n"
          ]
        }
      ]
    },
    {
      "cell_type": "code",
      "metadata": {
        "colab": {
          "base_uri": "https://localhost:8080/"
        },
        "id": "4VYRHEkg7hCZ",
        "outputId": "70191f4f-c248-48d7-a39e-53ddda6b443e"
      },
      "source": [
        "print(units[-1] or units[1])"
      ],
      "execution_count": 46,
      "outputs": [
        {
          "output_type": "stream",
          "name": "stdout",
          "text": [
            "['kg', 'pound', 'stone']\n"
          ]
        }
      ]
    },
    {
      "cell_type": "code",
      "metadata": {
        "colab": {
          "base_uri": "https://localhost:8080/"
        },
        "id": "D5c4iRa-7jUh",
        "outputId": "3583cbc3-18bb-49c0-80e1-0085b1413af8"
      },
      "source": [
        "print(units[0][0])"
      ],
      "execution_count": 47,
      "outputs": [
        {
          "output_type": "stream",
          "name": "stdout",
          "text": [
            "km\n"
          ]
        }
      ]
    },
    {
      "cell_type": "code",
      "metadata": {
        "colab": {
          "base_uri": "https://localhost:8080/"
        },
        "id": "56oKI73x7l1w",
        "outputId": "04b9e517-7e3e-4244-8ccc-2287428473b8"
      },
      "source": [
        "print(units[1][0])"
      ],
      "execution_count": 48,
      "outputs": [
        {
          "output_type": "stream",
          "name": "stdout",
          "text": [
            "kg\n"
          ]
        }
      ]
    },
    {
      "cell_type": "code",
      "metadata": {
        "colab": {
          "base_uri": "https://localhost:8080/"
        },
        "id": "bgdHuHSK7um9",
        "outputId": "f5046352-dc70-49a2-80a5-8d49e00aebe6"
      },
      "source": [
        "print(units[0][1:])"
      ],
      "execution_count": 49,
      "outputs": [
        {
          "output_type": "stream",
          "name": "stdout",
          "text": [
            "['miles', 'league']\n"
          ]
        }
      ]
    },
    {
      "cell_type": "code",
      "metadata": {
        "colab": {
          "base_uri": "https://localhost:8080/"
        },
        "id": "fl8eWHIV7xXI",
        "outputId": "9e041543-741f-4df9-9821-420f40ef77c2"
      },
      "source": [
        "print(units[1][0:2])"
      ],
      "execution_count": 50,
      "outputs": [
        {
          "output_type": "stream",
          "name": "stdout",
          "text": [
            "['kg', 'pound']\n"
          ]
        }
      ]
    },
    {
      "cell_type": "code",
      "metadata": {
        "colab": {
          "base_uri": "https://localhost:8080/"
        },
        "id": "-IgdQEPq70Lj",
        "outputId": "581f75f4-e1e0-4342-b547-854f91e15bbb"
      },
      "source": [
        "print(units[-2])"
      ],
      "execution_count": 51,
      "outputs": [
        {
          "output_type": "stream",
          "name": "stdout",
          "text": [
            "['km', 'miles', 'league']\n"
          ]
        }
      ]
    },
    {
      "cell_type": "code",
      "metadata": {
        "colab": {
          "base_uri": "https://localhost:8080/"
        },
        "id": "JlvL0Fsg72Tv",
        "outputId": "4b9f7702-2aad-491c-f1e3-3a90d2de6555"
      },
      "source": [
        "print(units[-1])"
      ],
      "execution_count": 52,
      "outputs": [
        {
          "output_type": "stream",
          "name": "stdout",
          "text": [
            "['kg', 'pound', 'stone']\n"
          ]
        }
      ]
    },
    {
      "cell_type": "code",
      "metadata": {
        "colab": {
          "base_uri": "https://localhost:8080/"
        },
        "id": "GfS3Lfve7436",
        "outputId": "1f5ca387-0b94-4d69-b412-e93d395da766"
      },
      "source": [
        "print(units[-2][-3])"
      ],
      "execution_count": 53,
      "outputs": [
        {
          "output_type": "stream",
          "name": "stdout",
          "text": [
            "km\n"
          ]
        }
      ]
    },
    {
      "cell_type": "code",
      "metadata": {
        "colab": {
          "base_uri": "https://localhost:8080/"
        },
        "id": "xOaf64j076w3",
        "outputId": "7d9dd5f5-976d-4e0d-d8fe-d063ecd758db"
      },
      "source": [
        "print(units[-1][-3])"
      ],
      "execution_count": 54,
      "outputs": [
        {
          "output_type": "stream",
          "name": "stdout",
          "text": [
            "kg\n"
          ]
        }
      ]
    },
    {
      "cell_type": "code",
      "metadata": {
        "colab": {
          "base_uri": "https://localhost:8080/"
        },
        "id": "LDuiXYb578vU",
        "outputId": "b7726765-3235-4ba2-967e-8bab17f6b2b7"
      },
      "source": [
        "print(units[-2][-2:])"
      ],
      "execution_count": 55,
      "outputs": [
        {
          "output_type": "stream",
          "name": "stdout",
          "text": [
            "['miles', 'league']\n"
          ]
        }
      ]
    },
    {
      "cell_type": "code",
      "metadata": {
        "colab": {
          "base_uri": "https://localhost:8080/"
        },
        "id": "rnKjCNan7-VK",
        "outputId": "c3266a26-4c22-447a-d943-aa652bada6f7"
      },
      "source": [
        "print(units[-1][:-1])"
      ],
      "execution_count": 56,
      "outputs": [
        {
          "output_type": "stream",
          "name": "stdout",
          "text": [
            "['kg', 'pound']\n"
          ]
        }
      ]
    }
  ]
}